{
 "cells": [
  {
   "cell_type": "code",
   "execution_count": 3,
   "metadata": {},
   "outputs": [],
   "source": [
    "# import nest_asyncio\n",
    "# nest_asyncio.apply()\n",
    "\n",
    "# from autorag.chunker import Chunker\n",
    "\n",
    "# chunker = Chunker.from_parquet(parsed_data_path=\"./parse/corpus.parquet\")\n",
    "# chunker.start_chunking(\"./config/chunk.yaml\")"
   ]
  },
  {
   "cell_type": "code",
   "execution_count": 4,
   "metadata": {},
   "outputs": [],
   "source": [
    "import pandas as pd\n",
    "from rich.console import Console\n",
    "\n",
    "console = Console()"
   ]
  },
  {
   "cell_type": "code",
   "execution_count": 5,
   "metadata": {},
   "outputs": [],
   "source": [
    "chunk_0 = pd.read_parquet('./chunk/0.parquet', engine='pyarrow')\n",
    "chunk_1 = pd.read_parquet('./chunk/1.parquet', engine='pyarrow')\n",
    "chunk_2 = pd.read_parquet('./chunk/2.parquet', engine='pyarrow')\n",
    "chunk_3 = pd.read_parquet('./chunk/3.parquet', engine='pyarrow')\n",
    "chunk_4 = pd.read_parquet('./chunk/4.parquet', engine='pyarrow')\n",
    "chunk_5 = pd.read_parquet('./chunk/5.parquet', engine='pyarrow')\n",
    "chunk_6 = pd.read_parquet('./chunk/6.parquet', engine='pyarrow')\n",
    "chunk_7 = pd.read_parquet('./chunk/7.parquet', engine='pyarrow')"
   ]
  },
  {
   "cell_type": "code",
   "execution_count": 6,
   "metadata": {},
   "outputs": [
    {
     "name": "stdout",
     "output_type": "stream",
     "text": [
      "                                 doc_id  \\\n",
      "0  4cc49672-801c-49d7-a681-d09db2eb2016   \n",
      "1  6c460ee4-9ee9-4766-9407-67485146bd43   \n",
      "2  9f79a436-2939-4643-a666-1e470e0db153   \n",
      "3  77beb8cd-5d2f-4f68-829a-5f0cc8070dfd   \n",
      "4  6bacb43f-bc9b-4a09-a4e8-2f9377c379c7   \n",
      "\n",
      "                                            contents path start_end_idx  \\\n",
      "0  파일 제목: \\n 내용: 대부분의 사람들은 행복하게 살기를 원합니다. 행복한 삶을 ...           [0, 826]   \n",
      "1  파일 제목: \\n 내용: 경제상식이나 지식이 우리를 한 순간에 부자로 만들어 주지는...           [0, 262]   \n",
      "2  파일 제목: \\n 내용: 이러한 경제상식과 지식이 세계경제와 나라경제에서 여러 가지...           [0, 944]   \n",
      "3  파일 제목: \\n 내용: 일상생활은 경제활동의 연속입니다. 일반적으로 옷과 음식, ...           [0, 786]   \n",
      "4  파일 제목: \\n 내용: 경제문제는 이렇게 이용 가능한 자원이 희소하기 때문에 생깁...           [0, 254]   \n",
      "\n",
      "                                            metadata  \n",
      "0  {'last_modified_datetime': 2024-10-26 01:10:32...  \n",
      "1  {'last_modified_datetime': 2024-10-26 01:10:32...  \n",
      "2  {'last_modified_datetime': 2024-10-26 01:10:32...  \n",
      "3  {'last_modified_datetime': 2024-10-26 01:10:32...  \n",
      "4  {'last_modified_datetime': 2024-10-26 01:10:32...  \n",
      "---------------------------------\n",
      "                                 doc_id  \\\n",
      "0  a1bd1dd1-811f-4144-a747-e7fb22d83328   \n",
      "1  2127e7cf-0397-4c79-a3ff-3f3ce1486fea   \n",
      "2  2523f590-751d-47b9-b16c-197427aca748   \n",
      "3  78ede5c7-86a0-443f-a34d-07c6b681f320   \n",
      "4  0846e52f-ac99-45b4-a5b1-4260c17cfe0e   \n",
      "\n",
      "                                            contents path start_end_idx  \\\n",
      "0  파일 제목: \\n 내용: 대부분의 사람들은 행복하게 살기를 원합니다. 행복한 삶을 ...           [0, 826]   \n",
      "1  파일 제목: \\n 내용: 경제상식이나 지식이 우리를 한 순간에 부자로 만들어 주지는...           [0, 262]   \n",
      "2  파일 제목: \\n 내용: 이러한 경제상식과 지식이 세계경제와 나라경제에서 여러 가지...           [0, 944]   \n",
      "3  파일 제목: \\n 내용: 일상생활은 경제활동의 연속입니다. 일반적으로 옷과 음식, ...           [0, 786]   \n",
      "4  파일 제목: \\n 내용: 경제문제는 이렇게 이용 가능한 자원이 희소하기 때문에 생깁...           [0, 254]   \n",
      "\n",
      "                                            metadata  \n",
      "0  {'last_modified_datetime': 2024-10-26 01:10:32...  \n",
      "1  {'last_modified_datetime': 2024-10-26 01:10:32...  \n",
      "2  {'last_modified_datetime': 2024-10-26 01:10:32...  \n",
      "3  {'last_modified_datetime': 2024-10-26 01:10:32...  \n",
      "4  {'last_modified_datetime': 2024-10-26 01:10:32...  \n",
      "---------------------------------\n",
      "                                 doc_id  \\\n",
      "0  453c70ae-2ae6-4569-8fa6-41f579b5f7c5   \n",
      "1  408dda00-99f8-40b2-8a01-45604e10e59d   \n",
      "2  8cff9a5b-d26c-4174-80d0-8a7554952317   \n",
      "3  30f28916-0017-414c-9ed0-697930304b58   \n",
      "4  d54c6031-b147-42a7-9def-dfd88abee5b9   \n",
      "\n",
      "                                            contents path start_end_idx  \\\n",
      "0  파일 제목: \\n 내용: 대부분의 사람들은 행복하게 살기를 원합니다. 행복한 삶을 ...           [0, 826]   \n",
      "1  파일 제목: \\n 내용: 경제상식이나 지식이 우리를 한 순간에 부자로 만들어 주지는...           [0, 262]   \n",
      "2  파일 제목: \\n 내용: 이러한 경제상식과 지식이 세계경제와 나라경제에서 여러 가지...           [0, 944]   \n",
      "3  파일 제목: \\n 내용: 일상생활은 경제활동의 연속입니다. 일반적으로 옷과 음식, ...           [0, 786]   \n",
      "4  파일 제목: \\n 내용: 경제문제는 이렇게 이용 가능한 자원이 희소하기 때문에 생깁...           [0, 254]   \n",
      "\n",
      "                                            metadata  \n",
      "0  {'last_modified_datetime': 2024-10-26 01:10:33...  \n",
      "1  {'last_modified_datetime': 2024-10-26 01:10:33...  \n",
      "2  {'last_modified_datetime': 2024-10-26 01:10:33...  \n",
      "3  {'last_modified_datetime': 2024-10-26 01:10:33...  \n",
      "4  {'last_modified_datetime': 2024-10-26 01:10:33...  \n",
      "---------------------------------\n",
      "                                 doc_id  \\\n",
      "0  b9210650-ef21-439d-868a-ed138fc15be6   \n",
      "1  a0374caf-d9fd-4224-a525-a514e884158d   \n",
      "2  5cc3bb36-2ff8-4a5a-84b0-8c1915f0f613   \n",
      "3  8008f19d-4059-403c-9f5e-7aaf771cc171   \n",
      "4  95670f60-de27-4449-bdab-8384bb71ae0c   \n",
      "\n",
      "                                            contents path start_end_idx  \\\n",
      "0  파일 제목: \\n 내용: 대부분의 사람들은 행복하게 살기를 원합니다. 행복한 삶을 ...           [0, 557]   \n",
      "1  파일 제목: \\n 내용: 어떤 결정을 해야만 할 때가 헤아릴 수 없이 많습니다. 이...         [427, 826]   \n",
      "2  파일 제목: \\n 내용: 경제상식이나 지식이 우리를 한 순간에 부자로 만들어 주지는...           [0, 262]   \n",
      "3  파일 제목: \\n 내용: 이러한 경제상식과 지식이 세계경제와 나라경제에서 여러 가지...           [0, 526]   \n",
      "4  파일 제목: \\n 내용: 그래서 나라경제를 잘 운영할 수 있는 훌륭한 정치인과 공직...         [392, 918]   \n",
      "\n",
      "                                            metadata  \n",
      "0  {'last_modified_datetime': 2024-10-26 01:10:33...  \n",
      "1  {'last_modified_datetime': 2024-10-26 01:10:33...  \n",
      "2  {'last_modified_datetime': 2024-10-26 01:10:33...  \n",
      "3  {'last_modified_datetime': 2024-10-26 01:10:33...  \n",
      "4  {'last_modified_datetime': 2024-10-26 01:10:33...  \n",
      "---------------------------------\n",
      "                                 doc_id  \\\n",
      "0  4804b95e-2f29-40a5-8efb-bf7913850325   \n",
      "1  ac550fb5-25db-4e7c-be9d-a848fd25acd5   \n",
      "2  ff4369c1-f562-4589-ad62-d446fa21cf69   \n",
      "3  5faa3cc3-c59d-46ef-ae1c-a56f05c80121   \n",
      "4  a642c0d7-2b92-4a6d-9dcc-3819804edabd   \n",
      "\n",
      "                                            contents path start_end_idx  \\\n",
      "0  파일 제목: \\n 내용: 대부분의 사람들은 행복하게 살기를 원합니다. 행복한 삶을 ...           [0, 826]   \n",
      "1  파일 제목: \\n 내용: 경제상식이나 지식이 우리를 한 순간에 부자로 만들어 주지는...           [0, 262]   \n",
      "2  파일 제목: \\n 내용: 이러한 경제상식과 지식이 세계경제와 나라경제에서 여러 가지...           [0, 944]   \n",
      "3  파일 제목: \\n 내용: 일상생활은 경제활동의 연속입니다. 일반적으로 옷과 음식, ...           [0, 786]   \n",
      "4  파일 제목: \\n 내용: 경제문제는 이렇게 이용 가능한 자원이 희소하기 때문에 생깁...           [0, 254]   \n",
      "\n",
      "                                            metadata  \n",
      "0  {'last_modified_datetime': 2024-10-26 01:10:33...  \n",
      "1  {'last_modified_datetime': 2024-10-26 01:10:33...  \n",
      "2  {'last_modified_datetime': 2024-10-26 01:10:33...  \n",
      "3  {'last_modified_datetime': 2024-10-26 01:10:33...  \n",
      "4  {'last_modified_datetime': 2024-10-26 01:10:33...  \n",
      "---------------------------------\n",
      "                                 doc_id  \\\n",
      "0  02a1de82-5fcc-46fc-8920-032e1c269b81   \n",
      "1  a2b6b908-b67d-4091-a154-4581d8b740d2   \n",
      "2  f00757f0-5f14-497c-9031-beebd383d8dd   \n",
      "3  3ce807e7-c56c-45d0-b07c-d3756c2721e4   \n",
      "4  d64dd912-fa79-4d5e-85cc-199921740f61   \n",
      "\n",
      "                                            contents path start_end_idx  \\\n",
      "0  파일 제목: \\n 내용: 대부분의 사람들은 행복하게 살기를 원합니다. 행복한 삶을 ...           [0, 524]   \n",
      "1  파일 제목: \\n 내용: 이러한 의사결정을 할 때 경제상식과 지식을 적절히 활용한 ...         [458, 826]   \n",
      "2  파일 제목: \\n 내용: 경제상식이나 지식이 우리를 한 순간에 부자로 만들어 주지는...           [0, 262]   \n",
      "3  파일 제목: \\n 내용: 이러한 경제상식과 지식이 세계경제와 나라경제에서 여러 가지...           [0, 477]   \n",
      "4  파일 제목: \\n 내용: 그래서 나라경제를 잘 운영할 수 있는 훌륭한 정치인과 공직...         [392, 847]   \n",
      "\n",
      "                                            metadata  \n",
      "0  {'last_modified_datetime': 2024-10-26 01:10:33...  \n",
      "1  {'last_modified_datetime': 2024-10-26 01:10:33...  \n",
      "2  {'last_modified_datetime': 2024-10-26 01:10:33...  \n",
      "3  {'last_modified_datetime': 2024-10-26 01:10:33...  \n",
      "4  {'last_modified_datetime': 2024-10-26 01:10:33...  \n",
      "---------------------------------\n",
      "                                 doc_id  \\\n",
      "0  c301ffe6-308a-4806-92e5-e3b8dec92651   \n",
      "1  d9a99cc7-724b-4a8c-b031-8023c98d52bd   \n",
      "2  2751ecb0-1a9e-4783-9e1d-5caebbfa2f97   \n",
      "3  6eaa79c0-a0fe-421c-867a-8ddb6f791c44   \n",
      "4  07b568b2-3545-4574-b269-95ac9f37353b   \n",
      "\n",
      "                                            contents path start_end_idx  \\\n",
      "0            파일 제목: \\n 내용: 대부분의 사람들은 행복하게 살기를 원합니다.             [0, 24]   \n",
      "1  파일 제목: \\n 내용: 행복한 삶을 이루기 위해 서는 건강한 가운데 가정과 직장 ...           [25, 93]   \n",
      "2  파일 제목: \\n 내용: 여기에 경제적으로 윤택한 것도 행복한 삶의 여러 가지 조건...          [94, 143]   \n",
      "3  파일 제목: \\n 내용: 현대의 물질문명에 대해 비판 이 없는 것은 아니지만 경제적...         [144, 203]   \n",
      "4  파일 제목: \\n 내용: 행복을 추구하는 우리 삶의 많은 부분은 경제적 의사결정과 ...         [204, 251]   \n",
      "\n",
      "                                            metadata  \n",
      "0  {'last_modified_datetime': 2024-10-26 01:10:33...  \n",
      "1  {'last_modified_datetime': 2024-10-26 01:10:33...  \n",
      "2  {'last_modified_datetime': 2024-10-26 01:10:33...  \n",
      "3  {'last_modified_datetime': 2024-10-26 01:10:33...  \n",
      "4  {'last_modified_datetime': 2024-10-26 01:10:33...  \n",
      "---------------------------------\n",
      "                                 doc_id  \\\n",
      "0  206f6d15-e56f-40de-954c-de9a5eb3abc0   \n",
      "1  e2fe48ac-0088-44c6-9732-5c654d14ef11   \n",
      "2  67a98874-cb4b-42a9-bbcb-ed5ce6f8422a   \n",
      "3  500746eb-59d9-4e21-b366-067dea5e55ca   \n",
      "4  bb01bde4-1166-45e1-95dc-fb923119d458   \n",
      "\n",
      "                                            contents path start_end_idx  \\\n",
      "0  대부분의 사람들은 행복하게 살기를 원합니다. 행복한 삶을 이루기 위해 서는 건강한 ...           [0, 639]   \n",
      "1  그렇다면 경제지식이 왜 필요할까요? 과연 이 책을 읽기 위해 투자한 시간의 가치에 ...         [640, 826]   \n",
      "2  경제상식이나 지식이 우리를 한 순간에 부자로 만들어 주지는 않습니다. 그렇지만 우리...           [0, 132]   \n",
      "3  경제지식이 단기적으로 주식으로 돈을 버는 기법을 가르쳐 주지는 않습니다. 그렇지만 ...         [133, 262]   \n",
      "4  이러한 경제상식과 지식이 세계경제와 나라경제에서 여러 가지 경제현 상의 흐름과 실태...           [0, 304]   \n",
      "\n",
      "                                            metadata  \n",
      "0  {'last_modified_datetime': 2024-10-26 01:10:36...  \n",
      "1  {'last_modified_datetime': 2024-10-26 01:10:36...  \n",
      "2  {'last_modified_datetime': 2024-10-26 01:10:37...  \n",
      "3  {'last_modified_datetime': 2024-10-26 01:10:37...  \n",
      "4  {'last_modified_datetime': 2024-10-26 01:10:37...  \n"
     ]
    }
   ],
   "source": [
    "print(chunk_0.head())\n",
    "print(\"---------------------------------\")\n",
    "print(chunk_1.head())\n",
    "print(\"---------------------------------\")\n",
    "print(chunk_2.head())\n",
    "print(\"---------------------------------\")\n",
    "print(chunk_3.head())\n",
    "print(\"---------------------------------\")\n",
    "print(chunk_4.head())\n",
    "print(\"---------------------------------\")\n",
    "print(chunk_5.head())\n",
    "print(\"---------------------------------\")\n",
    "print(chunk_6.head())\n",
    "print(\"---------------------------------\")\n",
    "print(chunk_7.head())"
   ]
  },
  {
   "cell_type": "code",
   "execution_count": 7,
   "metadata": {},
   "outputs": [
    {
     "data": {
      "text/html": [
       "<pre style=\"white-space:pre;overflow-x:auto;line-height:normal;font-family:Menlo,'DejaVu Sans Mono',consolas,'Courier New',monospace\">대부분의 사람들은 행복하게 살기를 원합니다. 행복한 삶을 이루기 위해 서는 건강한 가운데 가정과 직장 그리고 \n",
       "사회생활에서 적절한 성취를 얻는 것이 무엇보다 중요합니다. 여기에 경제적으로 윤택한 것도 행복한 삶의 여러 가지 조건 \n",
       "중 하나라고 할 수 있습니다. 현대의 물질문명에 대해 비판 이 없는 것은 아니지만 경제적 풍요가 행복의 한 요소인 것만은\n",
       "틀림없습니다. \n",
       "행복을 추구하는 우리 삶의 많은 부분은 경제적 의사결정과 밀접하게 관련되어 있습니다. 우리는 일상생활에서 의사결정을 \n",
       "계속하지 않을 수 없습니다. 예를 들어 시장에서 장을 볼 때 일반 채소를 살 것인지 조금 비싸더라도 유기농 채소를 살 \n",
       "것인지를 비롯해 택시를 달까 버스를 탈까와 같이 대중교통을 이용할 때의 사소한 결정에서부터 대학진학 여부, 직업 선택,\n",
       "주택 구입 등 크고 중요한 결정에 이르기까지 어떤 결정을 해야만 할 때가 헤아릴 수 없이 많습니다. 이러한 의사결정을 할\n",
       "때 경제상식과 지식을 적절히 활용한 경제적 사고방식은 현명한 의사결정을 내리는 데큰 도움이 됩니다. \n",
       "그렇다고 경제지식이 사람들을 곧바로 부유하게 해주는 것은 아닙니다. 경제학 강의 첫 시간에 교수들이 강조하는 말은 \n",
       "\"경제학이 부자가 될 수 있게 돈 버는 방법을 가르치는 학문은 아니다. 라는 것입니다. \n",
       "</pre>\n"
      ],
      "text/plain": [
       "대부분의 사람들은 행복하게 살기를 원합니다. 행복한 삶을 이루기 위해 서는 건강한 가운데 가정과 직장 그리고 \n",
       "사회생활에서 적절한 성취를 얻는 것이 무엇보다 중요합니다. 여기에 경제적으로 윤택한 것도 행복한 삶의 여러 가지 조건 \n",
       "중 하나라고 할 수 있습니다. 현대의 물질문명에 대해 비판 이 없는 것은 아니지만 경제적 풍요가 행복의 한 요소인 것만은\n",
       "틀림없습니다. \n",
       "행복을 추구하는 우리 삶의 많은 부분은 경제적 의사결정과 밀접하게 관련되어 있습니다. 우리는 일상생활에서 의사결정을 \n",
       "계속하지 않을 수 없습니다. 예를 들어 시장에서 장을 볼 때 일반 채소를 살 것인지 조금 비싸더라도 유기농 채소를 살 \n",
       "것인지를 비롯해 택시를 달까 버스를 탈까와 같이 대중교통을 이용할 때의 사소한 결정에서부터 대학진학 여부, 직업 선택,\n",
       "주택 구입 등 크고 중요한 결정에 이르기까지 어떤 결정을 해야만 할 때가 헤아릴 수 없이 많습니다. 이러한 의사결정을 할\n",
       "때 경제상식과 지식을 적절히 활용한 경제적 사고방식은 현명한 의사결정을 내리는 데큰 도움이 됩니다. \n",
       "그렇다고 경제지식이 사람들을 곧바로 부유하게 해주는 것은 아닙니다. 경제학 강의 첫 시간에 교수들이 강조하는 말은 \n",
       "\"경제학이 부자가 될 수 있게 돈 버는 방법을 가르치는 학문은 아니다. 라는 것입니다. \n"
      ]
     },
     "metadata": {},
     "output_type": "display_data"
    }
   ],
   "source": [
    "console.print(chunk_7.contents[0])"
   ]
  },
  {
   "cell_type": "code",
   "execution_count": 8,
   "metadata": {},
   "outputs": [
    {
     "data": {
      "text/html": [
       "<pre style=\"white-space:pre;overflow-x:auto;line-height:normal;font-family:Menlo,'DejaVu Sans Mono',consolas,'Courier New',monospace\">그렇다면 경제지식이 왜 필요할까요? 과연 이 책을 읽기 위해 투자한 시간의 가치에 상당하는 결실이 돌아올까요? \n",
       "경제상식이나 지식이 많다고 해서 모든 사 람이 곧 부자가 되고 행복해질 수 있다면 참 좋을 것입니다. 그러나 현실은 \n",
       "그렇지 않습니다. 역사적으로 저명한 경제학자라고 해서 반드시 부자가 아 니었던 것은 이것을 잘 대변해줍니다.\n",
       "</pre>\n"
      ],
      "text/plain": [
       "그렇다면 경제지식이 왜 필요할까요? 과연 이 책을 읽기 위해 투자한 시간의 가치에 상당하는 결실이 돌아올까요? \n",
       "경제상식이나 지식이 많다고 해서 모든 사 람이 곧 부자가 되고 행복해질 수 있다면 참 좋을 것입니다. 그러나 현실은 \n",
       "그렇지 않습니다. 역사적으로 저명한 경제학자라고 해서 반드시 부자가 아 니었던 것은 이것을 잘 대변해줍니다.\n"
      ]
     },
     "metadata": {},
     "output_type": "display_data"
    }
   ],
   "source": [
    "console.print(chunk_7.contents[1])"
   ]
  },
  {
   "cell_type": "code",
   "execution_count": 9,
   "metadata": {},
   "outputs": [
    {
     "data": {
      "text/html": [
       "<pre style=\"white-space:pre;overflow-x:auto;line-height:normal;font-family:Menlo,'DejaVu Sans Mono',consolas,'Courier New',monospace\">경제상식이나 지식이 우리를 한 순간에 부자로 만들어 주지는 않습니다. 그렇지만 우리가 일상사에서 합리적인 의사결정을 \n",
       "할수 있도록 도와줌으로써 장기적으로 보면 개개인의 행복을 크게 해주는 역할을 합니다. 주식 투자를 예로 들어 \n",
       "보겠습니다. \n",
       "</pre>\n"
      ],
      "text/plain": [
       "경제상식이나 지식이 우리를 한 순간에 부자로 만들어 주지는 않습니다. 그렇지만 우리가 일상사에서 합리적인 의사결정을 \n",
       "할수 있도록 도와줌으로써 장기적으로 보면 개개인의 행복을 크게 해주는 역할을 합니다. 주식 투자를 예로 들어 \n",
       "보겠습니다. \n"
      ]
     },
     "metadata": {},
     "output_type": "display_data"
    }
   ],
   "source": [
    "console.print(chunk_7.contents[2])"
   ]
  },
  {
   "cell_type": "code",
   "execution_count": 10,
   "metadata": {},
   "outputs": [
    {
     "data": {
      "text/html": [
       "<pre style=\"white-space:pre;overflow-x:auto;line-height:normal;font-family:Menlo,'DejaVu Sans Mono',consolas,'Courier New',monospace\">경제지식이 단기적으로 주식으로 돈을 버는 기법을 가르쳐 주지는 않습니다. 그렇지만 위험을 분산하고 경제의 흐름을 \n",
       "이해할 수 있도록 함으로써 중장기적으로 손실을 최소화하고 나아가 재산을 늘릴 수 있도록 하는 데 도움을 줄 수 \n",
       "있습니다.\n",
       "</pre>\n"
      ],
      "text/plain": [
       "경제지식이 단기적으로 주식으로 돈을 버는 기법을 가르쳐 주지는 않습니다. 그렇지만 위험을 분산하고 경제의 흐름을 \n",
       "이해할 수 있도록 함으로써 중장기적으로 손실을 최소화하고 나아가 재산을 늘릴 수 있도록 하는 데 도움을 줄 수 \n",
       "있습니다.\n"
      ]
     },
     "metadata": {},
     "output_type": "display_data"
    }
   ],
   "source": [
    "console.print(chunk_7.contents[3])"
   ]
  },
  {
   "cell_type": "code",
   "execution_count": 13,
   "metadata": {},
   "outputs": [
    {
     "data": {
      "text/html": [
       "<pre style=\"white-space:pre;overflow-x:auto;line-height:normal;font-family:Menlo,'DejaVu Sans Mono',consolas,'Courier New',monospace\"><span style=\"font-weight: bold\">{</span>\n",
       "    <span style=\"color: #008000; text-decoration-color: #008000\">'last_modified_datetime'</span>: <span style=\"color: #800080; text-decoration-color: #800080; font-weight: bold\">datetime.datetime</span><span style=\"font-weight: bold\">(</span><span style=\"color: #008080; text-decoration-color: #008080; font-weight: bold\">2024</span>, <span style=\"color: #008080; text-decoration-color: #008080; font-weight: bold\">10</span>, <span style=\"color: #008080; text-decoration-color: #008080; font-weight: bold\">26</span>, <span style=\"color: #008080; text-decoration-color: #008080; font-weight: bold\">1</span>, <span style=\"color: #008080; text-decoration-color: #008080; font-weight: bold\">10</span>, <span style=\"color: #008080; text-decoration-color: #008080; font-weight: bold\">36</span>, <span style=\"color: #008080; text-decoration-color: #008080; font-weight: bold\">102691</span><span style=\"font-weight: bold\">)</span>,\n",
       "    <span style=\"color: #008000; text-decoration-color: #008000\">'next_id'</span>: <span style=\"color: #008000; text-decoration-color: #008000\">'e2fe48ac-0088-44c6-9732-5c654d14ef11'</span>,\n",
       "    <span style=\"color: #008000; text-decoration-color: #008000\">'prev_id'</span>: <span style=\"color: #800080; text-decoration-color: #800080; font-style: italic\">None</span>\n",
       "<span style=\"font-weight: bold\">}</span>\n",
       "</pre>\n"
      ],
      "text/plain": [
       "\u001b[1m{\u001b[0m\n",
       "    \u001b[32m'last_modified_datetime'\u001b[0m: \u001b[1;35mdatetime.datetime\u001b[0m\u001b[1m(\u001b[0m\u001b[1;36m2024\u001b[0m, \u001b[1;36m10\u001b[0m, \u001b[1;36m26\u001b[0m, \u001b[1;36m1\u001b[0m, \u001b[1;36m10\u001b[0m, \u001b[1;36m36\u001b[0m, \u001b[1;36m102691\u001b[0m\u001b[1m)\u001b[0m,\n",
       "    \u001b[32m'next_id'\u001b[0m: \u001b[32m'e2fe48ac-0088-44c6-9732-5c654d14ef11'\u001b[0m,\n",
       "    \u001b[32m'prev_id'\u001b[0m: \u001b[3;35mNone\u001b[0m\n",
       "\u001b[1m}\u001b[0m\n"
      ]
     },
     "metadata": {},
     "output_type": "display_data"
    }
   ],
   "source": [
    "console.print(chunk_7.metadata[0])"
   ]
  },
  {
   "cell_type": "code",
   "execution_count": 18,
   "metadata": {},
   "outputs": [
    {
     "data": {
      "text/html": [
       "<pre style=\"white-space:pre;overflow-x:auto;line-height:normal;font-family:Menlo,'DejaVu Sans Mono',consolas,'Courier New',monospace\"><span style=\"color: #ffff00; text-decoration-color: #ffff00\">206f6d15-e56f-40de-954c-de9a5eb3abc0</span>\n",
       "</pre>\n"
      ],
      "text/plain": [
       "\u001b[93m206f6d15-e56f-40de-954c-de9a5eb3abc0\u001b[0m\n"
      ]
     },
     "metadata": {},
     "output_type": "display_data"
    }
   ],
   "source": [
    "console.print(chunk_7.doc_id[0])"
   ]
  },
  {
   "cell_type": "code",
   "execution_count": 14,
   "metadata": {},
   "outputs": [
    {
     "data": {
      "text/html": [
       "<pre style=\"white-space:pre;overflow-x:auto;line-height:normal;font-family:Menlo,'DejaVu Sans Mono',consolas,'Courier New',monospace\"><span style=\"font-weight: bold\">{</span>\n",
       "    <span style=\"color: #008000; text-decoration-color: #008000\">'last_modified_datetime'</span>: <span style=\"color: #800080; text-decoration-color: #800080; font-weight: bold\">datetime.datetime</span><span style=\"font-weight: bold\">(</span><span style=\"color: #008080; text-decoration-color: #008080; font-weight: bold\">2024</span>, <span style=\"color: #008080; text-decoration-color: #008080; font-weight: bold\">10</span>, <span style=\"color: #008080; text-decoration-color: #008080; font-weight: bold\">26</span>, <span style=\"color: #008080; text-decoration-color: #008080; font-weight: bold\">1</span>, <span style=\"color: #008080; text-decoration-color: #008080; font-weight: bold\">10</span>, <span style=\"color: #008080; text-decoration-color: #008080; font-weight: bold\">36</span>, <span style=\"color: #008080; text-decoration-color: #008080; font-weight: bold\">102702</span><span style=\"font-weight: bold\">)</span>,\n",
       "    <span style=\"color: #008000; text-decoration-color: #008000\">'next_id'</span>: <span style=\"color: #800080; text-decoration-color: #800080; font-style: italic\">None</span>,\n",
       "    <span style=\"color: #008000; text-decoration-color: #008000\">'prev_id'</span>: <span style=\"color: #008000; text-decoration-color: #008000\">'206f6d15-e56f-40de-954c-de9a5eb3abc0'</span>\n",
       "<span style=\"font-weight: bold\">}</span>\n",
       "</pre>\n"
      ],
      "text/plain": [
       "\u001b[1m{\u001b[0m\n",
       "    \u001b[32m'last_modified_datetime'\u001b[0m: \u001b[1;35mdatetime.datetime\u001b[0m\u001b[1m(\u001b[0m\u001b[1;36m2024\u001b[0m, \u001b[1;36m10\u001b[0m, \u001b[1;36m26\u001b[0m, \u001b[1;36m1\u001b[0m, \u001b[1;36m10\u001b[0m, \u001b[1;36m36\u001b[0m, \u001b[1;36m102702\u001b[0m\u001b[1m)\u001b[0m,\n",
       "    \u001b[32m'next_id'\u001b[0m: \u001b[3;35mNone\u001b[0m,\n",
       "    \u001b[32m'prev_id'\u001b[0m: \u001b[32m'206f6d15-e56f-40de-954c-de9a5eb3abc0'\u001b[0m\n",
       "\u001b[1m}\u001b[0m\n"
      ]
     },
     "metadata": {},
     "output_type": "display_data"
    }
   ],
   "source": [
    "console.print(chunk_7.metadata[1])"
   ]
  },
  {
   "cell_type": "code",
   "execution_count": 24,
   "metadata": {},
   "outputs": [
    {
     "data": {
      "text/html": [
       "<pre style=\"white-space:pre;overflow-x:auto;line-height:normal;font-family:Menlo,'DejaVu Sans Mono',consolas,'Courier New',monospace\"><span style=\"font-weight: bold\">{</span>\n",
       "    <span style=\"color: #008000; text-decoration-color: #008000\">'last_modified_datetime'</span>: <span style=\"color: #800080; text-decoration-color: #800080; font-weight: bold\">datetime.datetime</span><span style=\"font-weight: bold\">(</span><span style=\"color: #008080; text-decoration-color: #008080; font-weight: bold\">2024</span>, <span style=\"color: #008080; text-decoration-color: #008080; font-weight: bold\">10</span>, <span style=\"color: #008080; text-decoration-color: #008080; font-weight: bold\">26</span>, <span style=\"color: #008080; text-decoration-color: #008080; font-weight: bold\">1</span>, <span style=\"color: #008080; text-decoration-color: #008080; font-weight: bold\">10</span>, <span style=\"color: #008080; text-decoration-color: #008080; font-weight: bold\">38</span>, <span style=\"color: #008080; text-decoration-color: #008080; font-weight: bold\">688670</span><span style=\"font-weight: bold\">)</span>,\n",
       "    <span style=\"color: #008000; text-decoration-color: #008000\">'next_id'</span>: <span style=\"color: #800080; text-decoration-color: #800080; font-style: italic\">None</span>,\n",
       "    <span style=\"color: #008000; text-decoration-color: #008000\">'prev_id'</span>: <span style=\"color: #008000; text-decoration-color: #008000\">'3b53a047-1b6c-4803-b698-d106c36fafad'</span>\n",
       "<span style=\"font-weight: bold\">}</span>\n",
       "</pre>\n"
      ],
      "text/plain": [
       "\u001b[1m{\u001b[0m\n",
       "    \u001b[32m'last_modified_datetime'\u001b[0m: \u001b[1;35mdatetime.datetime\u001b[0m\u001b[1m(\u001b[0m\u001b[1;36m2024\u001b[0m, \u001b[1;36m10\u001b[0m, \u001b[1;36m26\u001b[0m, \u001b[1;36m1\u001b[0m, \u001b[1;36m10\u001b[0m, \u001b[1;36m38\u001b[0m, \u001b[1;36m688670\u001b[0m\u001b[1m)\u001b[0m,\n",
       "    \u001b[32m'next_id'\u001b[0m: \u001b[3;35mNone\u001b[0m,\n",
       "    \u001b[32m'prev_id'\u001b[0m: \u001b[32m'3b53a047-1b6c-4803-b698-d106c36fafad'\u001b[0m\n",
       "\u001b[1m}\u001b[0m\n"
      ]
     },
     "metadata": {},
     "output_type": "display_data"
    }
   ],
   "source": [
    "console.print(chunk_7.metadata[7])"
   ]
  },
  {
   "cell_type": "code",
   "execution_count": null,
   "metadata": {},
   "outputs": [],
   "source": []
  }
 ],
 "metadata": {
  "kernelspec": {
   "display_name": "autorag",
   "language": "python",
   "name": "python3"
  },
  "language_info": {
   "codemirror_mode": {
    "name": "ipython",
    "version": 3
   },
   "file_extension": ".py",
   "mimetype": "text/x-python",
   "name": "python",
   "nbconvert_exporter": "python",
   "pygments_lexer": "ipython3",
   "version": "3.10.15"
  }
 },
 "nbformat": 4,
 "nbformat_minor": 2
}
