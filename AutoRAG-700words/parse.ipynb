{
 "cells": [
  {
   "cell_type": "code",
   "execution_count": 1,
   "metadata": {},
   "outputs": [
    {
     "data": {
      "text/html": [
       "<pre style=\"white-space:pre;overflow-x:auto;line-height:normal;font-family:Menlo,'DejaVu Sans Mono',consolas,'Courier New',monospace\"><span style=\"color: #7fbfbf; text-decoration-color: #7fbfbf\">[10/24/24 16:03:42] </span><span style=\"color: #000080; text-decoration-color: #000080\">INFO    </span> <span style=\"font-weight: bold\">[</span>__init__.py:<span style=\"color: #008080; text-decoration-color: #008080; font-weight: bold\">100</span><span style=\"font-weight: bold\">]</span> &gt;&gt; You are using API version of AutoRAG.To use local <a href=\"file:///Users/yooobwoood/miniforge3/envs/autorag/lib/python3.10/site-packages/autorag/__init__.py\" target=\"_blank\"><span style=\"color: #7f7f7f; text-decoration-color: #7f7f7f\">__init__.py</span></a><span style=\"color: #7f7f7f; text-decoration-color: #7f7f7f\">:</span><a href=\"file:///Users/yooobwoood/miniforge3/envs/autorag/lib/python3.10/site-packages/autorag/__init__.py#100\" target=\"_blank\"><span style=\"color: #7f7f7f; text-decoration-color: #7f7f7f\">100</span></a>\n",
       "<span style=\"color: #7fbfbf; text-decoration-color: #7fbfbf\">                    </span>         version, run pip install <span style=\"color: #008000; text-decoration-color: #008000\">'AutoRAG[gpu]'</span>                                <span style=\"color: #7f7f7f; text-decoration-color: #7f7f7f\">               </span>\n",
       "</pre>\n"
      ],
      "text/plain": [
       "\u001b[2;36m[10/24/24 16:03:42]\u001b[0m\u001b[2;36m \u001b[0m\u001b[34mINFO    \u001b[0m \u001b[1m[\u001b[0m__init__.py:\u001b[1;36m100\u001b[0m\u001b[1m]\u001b[0m >> You are using API version of AutoRAG.To use local \u001b]8;id=242957;file:///Users/yooobwoood/miniforge3/envs/autorag/lib/python3.10/site-packages/autorag/__init__.py\u001b\\\u001b[2m__init__.py\u001b[0m\u001b]8;;\u001b\\\u001b[2m:\u001b[0m\u001b]8;id=283227;file:///Users/yooobwoood/miniforge3/envs/autorag/lib/python3.10/site-packages/autorag/__init__.py#100\u001b\\\u001b[2m100\u001b[0m\u001b]8;;\u001b\\\n",
       "\u001b[2;36m                    \u001b[0m         version, run pip install \u001b[32m'AutoRAG\u001b[0m\u001b[32m[\u001b[0m\u001b[32mgpu\u001b[0m\u001b[32m]\u001b[0m\u001b[32m'\u001b[0m                                \u001b[2m               \u001b[0m\n"
      ]
     },
     "metadata": {},
     "output_type": "display_data"
    },
    {
     "data": {
      "text/html": [
       "<pre style=\"white-space:pre;overflow-x:auto;line-height:normal;font-family:Menlo,'DejaVu Sans Mono',consolas,'Courier New',monospace\"><span style=\"color: #7fbfbf; text-decoration-color: #7fbfbf\">                    </span><span style=\"color: #000080; text-decoration-color: #000080\">INFO    </span> <span style=\"font-weight: bold\">[</span>__init__.py:<span style=\"color: #008080; text-decoration-color: #008080; font-weight: bold\">125</span><span style=\"font-weight: bold\">]</span> &gt;&gt; You are using API version of AutoRAG.To use local <a href=\"file:///Users/yooobwoood/miniforge3/envs/autorag/lib/python3.10/site-packages/autorag/__init__.py\" target=\"_blank\"><span style=\"color: #7f7f7f; text-decoration-color: #7f7f7f\">__init__.py</span></a><span style=\"color: #7f7f7f; text-decoration-color: #7f7f7f\">:</span><a href=\"file:///Users/yooobwoood/miniforge3/envs/autorag/lib/python3.10/site-packages/autorag/__init__.py#125\" target=\"_blank\"><span style=\"color: #7f7f7f; text-decoration-color: #7f7f7f\">125</span></a>\n",
       "<span style=\"color: #7fbfbf; text-decoration-color: #7fbfbf\">                    </span>         version, run pip install <span style=\"color: #008000; text-decoration-color: #008000\">'AutoRAG[gpu]'</span>                                <span style=\"color: #7f7f7f; text-decoration-color: #7f7f7f\">               </span>\n",
       "</pre>\n"
      ],
      "text/plain": [
       "\u001b[2;36m                   \u001b[0m\u001b[2;36m \u001b[0m\u001b[34mINFO    \u001b[0m \u001b[1m[\u001b[0m__init__.py:\u001b[1;36m125\u001b[0m\u001b[1m]\u001b[0m >> You are using API version of AutoRAG.To use local \u001b]8;id=608650;file:///Users/yooobwoood/miniforge3/envs/autorag/lib/python3.10/site-packages/autorag/__init__.py\u001b\\\u001b[2m__init__.py\u001b[0m\u001b]8;;\u001b\\\u001b[2m:\u001b[0m\u001b]8;id=215453;file:///Users/yooobwoood/miniforge3/envs/autorag/lib/python3.10/site-packages/autorag/__init__.py#125\u001b\\\u001b[2m125\u001b[0m\u001b]8;;\u001b\\\n",
       "\u001b[2;36m                    \u001b[0m         version, run pip install \u001b[32m'AutoRAG\u001b[0m\u001b[32m[\u001b[0m\u001b[32mgpu\u001b[0m\u001b[32m]\u001b[0m\u001b[32m'\u001b[0m                                \u001b[2m               \u001b[0m\n"
      ]
     },
     "metadata": {},
     "output_type": "display_data"
    },
    {
     "data": {
      "text/html": [
       "<pre style=\"white-space:pre;overflow-x:auto;line-height:normal;font-family:Menlo,'DejaVu Sans Mono',consolas,'Courier New',monospace\"><span style=\"color: #7fbfbf; text-decoration-color: #7fbfbf\">[10/24/24 16:03:43] </span><span style=\"color: #000080; text-decoration-color: #000080\">INFO    </span> <span style=\"font-weight: bold\">[</span>parser.py:<span style=\"color: #008080; text-decoration-color: #008080; font-weight: bold\">33</span><span style=\"font-weight: bold\">]</span> &gt;&gt; Parsing Start<span style=\"color: #808000; text-decoration-color: #808000\">...</span>                                        <a href=\"file:///Users/yooobwoood/miniforge3/envs/autorag/lib/python3.10/site-packages/autorag/parser.py\" target=\"_blank\"><span style=\"color: #7f7f7f; text-decoration-color: #7f7f7f\">parser.py</span></a><span style=\"color: #7f7f7f; text-decoration-color: #7f7f7f\">:</span><a href=\"file:///Users/yooobwoood/miniforge3/envs/autorag/lib/python3.10/site-packages/autorag/parser.py#33\" target=\"_blank\"><span style=\"color: #7f7f7f; text-decoration-color: #7f7f7f\">33</span></a>\n",
       "</pre>\n"
      ],
      "text/plain": [
       "\u001b[2;36m[10/24/24 16:03:43]\u001b[0m\u001b[2;36m \u001b[0m\u001b[34mINFO    \u001b[0m \u001b[1m[\u001b[0mparser.py:\u001b[1;36m33\u001b[0m\u001b[1m]\u001b[0m >> Parsing Start\u001b[33m...\u001b[0m                                        \u001b]8;id=312179;file:///Users/yooobwoood/miniforge3/envs/autorag/lib/python3.10/site-packages/autorag/parser.py\u001b\\\u001b[2mparser.py\u001b[0m\u001b]8;;\u001b\\\u001b[2m:\u001b[0m\u001b]8;id=98159;file:///Users/yooobwoood/miniforge3/envs/autorag/lib/python3.10/site-packages/autorag/parser.py#33\u001b\\\u001b[2m33\u001b[0m\u001b]8;;\u001b\\\n"
      ]
     },
     "metadata": {},
     "output_type": "display_data"
    },
    {
     "data": {
      "text/html": [
       "<pre style=\"white-space:pre;overflow-x:auto;line-height:normal;font-family:Menlo,'DejaVu Sans Mono',consolas,'Courier New',monospace\"><span style=\"color: #7fbfbf; text-decoration-color: #7fbfbf\">                    </span><span style=\"color: #000080; text-decoration-color: #000080\">INFO    </span> <span style=\"font-weight: bold\">[</span>base.py:<span style=\"color: #008080; text-decoration-color: #008080; font-weight: bold\">19</span><span style=\"font-weight: bold\">]</span> &gt;&gt; Running parser - langchain_parse module<span style=\"color: #808000; text-decoration-color: #808000\">...</span>                  <a href=\"file:///Users/yooobwoood/miniforge3/envs/autorag/lib/python3.10/site-packages/autorag/data/parse/base.py\" target=\"_blank\"><span style=\"color: #7f7f7f; text-decoration-color: #7f7f7f\">base.py</span></a><span style=\"color: #7f7f7f; text-decoration-color: #7f7f7f\">:</span><a href=\"file:///Users/yooobwoood/miniforge3/envs/autorag/lib/python3.10/site-packages/autorag/data/parse/base.py#19\" target=\"_blank\"><span style=\"color: #7f7f7f; text-decoration-color: #7f7f7f\">19</span></a>\n",
       "</pre>\n"
      ],
      "text/plain": [
       "\u001b[2;36m                   \u001b[0m\u001b[2;36m \u001b[0m\u001b[34mINFO    \u001b[0m \u001b[1m[\u001b[0mbase.py:\u001b[1;36m19\u001b[0m\u001b[1m]\u001b[0m >> Running parser - langchain_parse module\u001b[33m...\u001b[0m                  \u001b]8;id=410989;file:///Users/yooobwoood/miniforge3/envs/autorag/lib/python3.10/site-packages/autorag/data/parse/base.py\u001b\\\u001b[2mbase.py\u001b[0m\u001b]8;;\u001b\\\u001b[2m:\u001b[0m\u001b]8;id=220070;file:///Users/yooobwoood/miniforge3/envs/autorag/lib/python3.10/site-packages/autorag/data/parse/base.py#19\u001b\\\u001b[2m19\u001b[0m\u001b]8;;\u001b\\\n"
      ]
     },
     "metadata": {},
     "output_type": "display_data"
    },
    {
     "name": "stdout",
     "output_type": "stream",
     "text": [
      "\u001b[2;36m[10/24/24 16:03:45]\u001b[0m\u001b[2;36m \u001b[0m\u001b[34mINFO    \u001b[0m \u001b[1m[\u001b[0m__init__.py:\u001b[1;36m100\u001b[0m\u001b[1m]\u001b[0m >> You are using  \u001b]8;id=551935;file:///Users/yooobwoood/miniforge3/envs/autorag/lib/python3.10/site-packages/autorag/__init__.py\u001b\\\u001b[2m__init__.py\u001b[0m\u001b]8;;\u001b\\\u001b[2m:\u001b[0m\u001b]8;id=138153;file:///Users/yooobwoood/miniforge3/envs/autorag/lib/python3.10/site-packages/autorag/__init__.py#100\u001b\\\u001b[2m100\u001b[0m\u001b]8;;\u001b\\\n",
      "\u001b[2;36m                    \u001b[0m         API version of AutoRAG.To use local \u001b[2m               \u001b[0m\n",
      "\u001b[2;36m                    \u001b[0m         version, run pip install            \u001b[2m               \u001b[0m\n",
      "\u001b[2;36m                    \u001b[0m         \u001b[32m'AutoRAG\u001b[0m\u001b[32m[\u001b[0m\u001b[32mgpu\u001b[0m\u001b[32m]\u001b[0m\u001b[32m'\u001b[0m                      \u001b[2m               \u001b[0m\n",
      "\u001b[2;36m[10/24/24 16:03:46]\u001b[0m\u001b[2;36m \u001b[0m\u001b[34mINFO    \u001b[0m \u001b[1m[\u001b[0m__init__.py:\u001b[1;36m125\u001b[0m\u001b[1m]\u001b[0m >> You are using  \u001b]8;id=70694;file:///Users/yooobwoood/miniforge3/envs/autorag/lib/python3.10/site-packages/autorag/__init__.py\u001b\\\u001b[2m__init__.py\u001b[0m\u001b]8;;\u001b\\\u001b[2m:\u001b[0m\u001b]8;id=575475;file:///Users/yooobwoood/miniforge3/envs/autorag/lib/python3.10/site-packages/autorag/__init__.py#125\u001b\\\u001b[2m125\u001b[0m\u001b]8;;\u001b\\\n",
      "\u001b[2;36m                    \u001b[0m         API version of AutoRAG.To use local \u001b[2m               \u001b[0m\n",
      "\u001b[2;36m                    \u001b[0m         version, run pip install            \u001b[2m               \u001b[0m\n",
      "\u001b[2;36m                    \u001b[0m         \u001b[32m'AutoRAG\u001b[0m\u001b[32m[\u001b[0m\u001b[32mgpu\u001b[0m\u001b[32m]\u001b[0m\u001b[32m'\u001b[0m                      \u001b[2m               \u001b[0m\n"
     ]
    },
    {
     "data": {
      "text/html": [
       "<pre style=\"white-space:pre;overflow-x:auto;line-height:normal;font-family:Menlo,'DejaVu Sans Mono',consolas,'Courier New',monospace\"><span style=\"color: #7fbfbf; text-decoration-color: #7fbfbf\">[10/24/24 16:03:46] </span><span style=\"color: #000080; text-decoration-color: #000080\">INFO    </span> <span style=\"font-weight: bold\">[</span>parser.py:<span style=\"color: #008080; text-decoration-color: #008080; font-weight: bold\">40</span><span style=\"font-weight: bold\">]</span> &gt;&gt; Parsing Done!                                           <a href=\"file:///Users/yooobwoood/miniforge3/envs/autorag/lib/python3.10/site-packages/autorag/parser.py\" target=\"_blank\"><span style=\"color: #7f7f7f; text-decoration-color: #7f7f7f\">parser.py</span></a><span style=\"color: #7f7f7f; text-decoration-color: #7f7f7f\">:</span><a href=\"file:///Users/yooobwoood/miniforge3/envs/autorag/lib/python3.10/site-packages/autorag/parser.py#40\" target=\"_blank\"><span style=\"color: #7f7f7f; text-decoration-color: #7f7f7f\">40</span></a>\n",
       "</pre>\n"
      ],
      "text/plain": [
       "\u001b[2;36m[10/24/24 16:03:46]\u001b[0m\u001b[2;36m \u001b[0m\u001b[34mINFO    \u001b[0m \u001b[1m[\u001b[0mparser.py:\u001b[1;36m40\u001b[0m\u001b[1m]\u001b[0m >> Parsing Done!                                           \u001b]8;id=951732;file:///Users/yooobwoood/miniforge3/envs/autorag/lib/python3.10/site-packages/autorag/parser.py\u001b\\\u001b[2mparser.py\u001b[0m\u001b]8;;\u001b\\\u001b[2m:\u001b[0m\u001b]8;id=472197;file:///Users/yooobwoood/miniforge3/envs/autorag/lib/python3.10/site-packages/autorag/parser.py#40\u001b\\\u001b[2m40\u001b[0m\u001b]8;;\u001b\\\n"
      ]
     },
     "metadata": {},
     "output_type": "display_data"
    }
   ],
   "source": [
    "from autorag.parser import Parser\n",
    "\n",
    "parser = Parser(data_path_glob=\"./raw_docs/700words.csv\")\n",
    "parser.start_parsing(\"./config/parse.yaml\")"
   ]
  },
  {
   "cell_type": "code",
   "execution_count": 2,
   "metadata": {},
   "outputs": [
    {
     "data": {
      "text/html": [
       "<div>\n",
       "<style scoped>\n",
       "    .dataframe tbody tr th:only-of-type {\n",
       "        vertical-align: middle;\n",
       "    }\n",
       "\n",
       "    .dataframe tbody tr th {\n",
       "        vertical-align: top;\n",
       "    }\n",
       "\n",
       "    .dataframe thead th {\n",
       "        text-align: right;\n",
       "    }\n",
       "</style>\n",
       "<table border=\"1\" class=\"dataframe\">\n",
       "  <thead>\n",
       "    <tr style=\"text-align: right;\">\n",
       "      <th></th>\n",
       "      <th>texts</th>\n",
       "      <th>path</th>\n",
       "      <th>page</th>\n",
       "      <th>last_modified_datetime</th>\n",
       "    </tr>\n",
       "  </thead>\n",
       "  <tbody>\n",
       "    <tr>\n",
       "      <th>0</th>\n",
       "      <td>title: 가계부실위험지수(HDRI)\\ncontent: 가구의 소득 흐름은 물론 ...</td>\n",
       "      <td>./raw_docs/700words.csv</td>\n",
       "      <td>-1</td>\n",
       "      <td>2024-10-24</td>\n",
       "    </tr>\n",
       "    <tr>\n",
       "      <th>1</th>\n",
       "      <td>title: 가계수지\\ncontent: 가정에서 일정 기간의 수입(명목소득)과 지출...</td>\n",
       "      <td>./raw_docs/700words.csv</td>\n",
       "      <td>-1</td>\n",
       "      <td>2024-10-24</td>\n",
       "    </tr>\n",
       "    <tr>\n",
       "      <th>2</th>\n",
       "      <td>title: 가계순저축률\\ncontent: 일반적으로 저축률은 저축액을 처분가능소득...</td>\n",
       "      <td>./raw_docs/700words.csv</td>\n",
       "      <td>-1</td>\n",
       "      <td>2024-10-24</td>\n",
       "    </tr>\n",
       "    <tr>\n",
       "      <th>3</th>\n",
       "      <td>title: 가계신용통계\\ncontent: 가계신용통계는 가계부문에 대한 신용공급 ...</td>\n",
       "      <td>./raw_docs/700words.csv</td>\n",
       "      <td>-1</td>\n",
       "      <td>2024-10-24</td>\n",
       "    </tr>\n",
       "    <tr>\n",
       "      <th>4</th>\n",
       "      <td>title: 가계처분가능소득\\ncontent: 가계처분가능소득(PDI; Person...</td>\n",
       "      <td>./raw_docs/700words.csv</td>\n",
       "      <td>-1</td>\n",
       "      <td>2024-10-24</td>\n",
       "    </tr>\n",
       "  </tbody>\n",
       "</table>\n",
       "</div>"
      ],
      "text/plain": [
       "                                               texts                     path  \\\n",
       "0  title: 가계부실위험지수(HDRI)\\ncontent: 가구의 소득 흐름은 물론 ...  ./raw_docs/700words.csv   \n",
       "1  title: 가계수지\\ncontent: 가정에서 일정 기간의 수입(명목소득)과 지출...  ./raw_docs/700words.csv   \n",
       "2  title: 가계순저축률\\ncontent: 일반적으로 저축률은 저축액을 처분가능소득...  ./raw_docs/700words.csv   \n",
       "3  title: 가계신용통계\\ncontent: 가계신용통계는 가계부문에 대한 신용공급 ...  ./raw_docs/700words.csv   \n",
       "4  title: 가계처분가능소득\\ncontent: 가계처분가능소득(PDI; Person...  ./raw_docs/700words.csv   \n",
       "\n",
       "   page last_modified_datetime  \n",
       "0    -1             2024-10-24  \n",
       "1    -1             2024-10-24  \n",
       "2    -1             2024-10-24  \n",
       "3    -1             2024-10-24  \n",
       "4    -1             2024-10-24  "
      ]
     },
     "execution_count": 2,
     "metadata": {},
     "output_type": "execute_result"
    }
   ],
   "source": [
    "import pandas as pd\n",
    "\n",
    "df = pd.read_parquet('./parse/0.parquet', engine='pyarrow')\n",
    "df.head()"
   ]
  },
  {
   "cell_type": "code",
   "execution_count": 3,
   "metadata": {},
   "outputs": [
    {
     "data": {
      "text/html": [
       "<pre style=\"white-space:pre;overflow-x:auto;line-height:normal;font-family:Menlo,'DejaVu Sans Mono',consolas,'Courier New',monospace\">title: <span style=\"color: #800080; text-decoration-color: #800080; font-weight: bold\">가계부실위험지수</span><span style=\"font-weight: bold\">(</span>HDRI<span style=\"font-weight: bold\">)</span>\n",
       "content: 가구의 소득 흐름은 물론 금융 및 실물 자산까지 종합적으로 고려하여 가계부채의 부실위험을 평가하는 지표로, \n",
       "가계의 채무상환능력을 소득 측면에서 평가하는 원리금상 <span style=\"color: #800080; text-decoration-color: #800080; font-weight: bold\">환비율</span><span style=\"font-weight: bold\">(</span>DSR; Debt Service Ratio<span style=\"font-weight: bold\">)</span>과 자산 측면에서 평가하는 \n",
       "부채/<span style=\"color: #800080; text-decoration-color: #800080; font-weight: bold\">자산비율</span><span style=\"font-weight: bold\">(</span>DTA; Debt To Asset Ratio<span style=\"font-weight: bold\">)</span>을 결합하여 산출한 지수이다. 가계부실위험지수는 가구의 DSR과 DTA가 각각 <span style=\"color: #008080; text-decoration-color: #008080; font-weight: bold\">40</span>%,\n",
       "<span style=\"color: #008080; text-decoration-color: #008080; font-weight: bold\">100</span>%일 때 100의 값을 갖도록 설정되어 있으며, 동 지수가 100을 초과하는 가구를 ‘위험가구’로 분류한다. 위험가구는 소득\n",
       "및 자산 측면에서 모두 취약한 ‘고위험가구’, 자산 측면에서 취약한 ‘고DTA가구’, 소득 측면에서 취약한 ‘고DSR가구’로 \n",
       "구분할 수 있다. 다만 위험 및 고위험 가구는 가구의 채무상환능력 취약성 정도를 평가하기 위한 것이며 이들 가구가 당장 \n",
       "채무상환 불이행, 즉 임계상황에 직면한 것을 의미하지 않는다.\n",
       "related_keyword: <span style=\"color: #800080; text-decoration-color: #800080; font-weight: bold\">총부채원리금상환비율</span><span style=\"font-weight: bold\">(</span>DSR<span style=\"font-weight: bold\">)</span>\n",
       "</pre>\n"
      ],
      "text/plain": [
       "title: \u001b[1;35m가계부실위험지수\u001b[0m\u001b[1m(\u001b[0mHDRI\u001b[1m)\u001b[0m\n",
       "content: 가구의 소득 흐름은 물론 금융 및 실물 자산까지 종합적으로 고려하여 가계부채의 부실위험을 평가하는 지표로, \n",
       "가계의 채무상환능력을 소득 측면에서 평가하는 원리금상 \u001b[1;35m환비율\u001b[0m\u001b[1m(\u001b[0mDSR; Debt Service Ratio\u001b[1m)\u001b[0m과 자산 측면에서 평가하는 \n",
       "부채/\u001b[1;35m자산비율\u001b[0m\u001b[1m(\u001b[0mDTA; Debt To Asset Ratio\u001b[1m)\u001b[0m을 결합하여 산출한 지수이다. 가계부실위험지수는 가구의 DSR과 DTA가 각각 \u001b[1;36m40\u001b[0m%,\n",
       "\u001b[1;36m100\u001b[0m%일 때 100의 값을 갖도록 설정되어 있으며, 동 지수가 100을 초과하는 가구를 ‘위험가구’로 분류한다. 위험가구는 소득\n",
       "및 자산 측면에서 모두 취약한 ‘고위험가구’, 자산 측면에서 취약한 ‘고DTA가구’, 소득 측면에서 취약한 ‘고DSR가구’로 \n",
       "구분할 수 있다. 다만 위험 및 고위험 가구는 가구의 채무상환능력 취약성 정도를 평가하기 위한 것이며 이들 가구가 당장 \n",
       "채무상환 불이행, 즉 임계상황에 직면한 것을 의미하지 않는다.\n",
       "related_keyword: \u001b[1;35m총부채원리금상환비율\u001b[0m\u001b[1m(\u001b[0mDSR\u001b[1m)\u001b[0m\n"
      ]
     },
     "metadata": {},
     "output_type": "display_data"
    }
   ],
   "source": [
    "from rich.console import Console\n",
    "\n",
    "console = Console()\n",
    "console.print(df.texts[0])"
   ]
  },
  {
   "cell_type": "code",
   "execution_count": null,
   "metadata": {},
   "outputs": [],
   "source": []
  }
 ],
 "metadata": {
  "kernelspec": {
   "display_name": "autorag2",
   "language": "python",
   "name": "python3"
  },
  "language_info": {
   "codemirror_mode": {
    "name": "ipython",
    "version": 3
   },
   "file_extension": ".py",
   "mimetype": "text/x-python",
   "name": "python",
   "nbconvert_exporter": "python",
   "pygments_lexer": "ipython3",
   "version": "3.10.15"
  }
 },
 "nbformat": 4,
 "nbformat_minor": 2
}
