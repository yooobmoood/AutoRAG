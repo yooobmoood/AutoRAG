{
 "cells": [
  {
   "cell_type": "markdown",
   "metadata": {},
   "source": [
    "## 알기쉬운 경제이야기"
   ]
  },
  {
   "cell_type": "code",
   "execution_count": null,
   "metadata": {},
   "outputs": [
    {
     "data": {
      "text/plain": [
       "True"
      ]
     },
     "execution_count": 2,
     "metadata": {},
     "output_type": "execute_result"
    }
   ],
   "source": [
    "# Import\n",
    "import warnings\n",
    "import os\n",
    "import pickle\n",
    "import gc\n",
    "from dotenv import load_dotenv\n",
    "from konlpy.tag import Okt\n",
    "import pandas as pd\n",
    "from transformers import AutoModelForSequenceClassification, AutoTokenizer\n",
    "import torch\n",
    "from langchain.schema import Document\n",
    "from langchain_community.embeddings import HuggingFaceEmbeddings\n",
    "from langchain_community.vectorstores import FAISS\n",
    "from langchain.retrievers import EnsembleRetriever\n",
    "from langchain_community.retrievers import BM25Retriever\n",
    "from langchain_teddynote.retrievers import EnsembleRetriever, EnsembleMethod\n",
    "from langchain.chains import LLMChain\n",
    "from langchain.prompts import PromptTemplate\n",
    "from langchain_community.chat_models import ChatOpenAI\n",
    "\n",
    "warnings.filterwarnings('ignore')\n",
    "load_dotenv()"
   ]
  },
  {
   "cell_type": "code",
   "execution_count": 3,
   "metadata": {},
   "outputs": [],
   "source": [
    "# Path\n",
    "file_path = './data/corpus-easystory.parquet'\n",
    "faiss_index_path = './index/easystory_faiss_index.pkl'\n",
    "bm25_index_path = './index/easystory_bm25_index.pkl'"
   ]
  },
  {
   "cell_type": "code",
   "execution_count": 4,
   "metadata": {},
   "outputs": [],
   "source": [
    "# Load & Documents\n",
    "def load_csv_as_documents(file_path):\n",
    "    df = pd.read_parquet(file_path, engine='pyarrow')\n",
    "    documents = []\n",
    "    for _, row in df.iterrows():\n",
    "        content = row['contents']\n",
    "        metadata = row['metadata']\n",
    "        updated_metadata = {\n",
    "            'doc_id': row['doc_id'],\n",
    "            'next_id': metadata.get('next_id'),\n",
    "            'prev_id': metadata.get('prev_id')\n",
    "        }\n",
    "        doc = Document(page_content=content, metadata=updated_metadata)\n",
    "        documents.append(doc)\n",
    "    return documents"
   ]
  },
  {
   "cell_type": "code",
   "execution_count": 5,
   "metadata": {},
   "outputs": [
    {
     "data": {
      "text/plain": [
       "95"
      ]
     },
     "execution_count": 5,
     "metadata": {},
     "output_type": "execute_result"
    }
   ],
   "source": [
    "documents = load_csv_as_documents(file_path)\n",
    "gc.collect()"
   ]
  },
  {
   "cell_type": "code",
   "execution_count": 6,
   "metadata": {},
   "outputs": [
    {
     "name": "stdout",
     "output_type": "stream",
     "text": [
      "Content: 대부분의 사람들은 행복하게 살기를 원합니다. 행복한 삶을 이루기 위해 서는 건강한 가운데 가정과 직장 그리고 사회생활에서 적절한 성취를 얻는 것이 무엇보다 중요합니다. 여기에 경제...\n",
      "Metadata: {'doc_id': '206f6d15-e56f-40de-954c-de9a5eb3abc0', 'next_id': 'e2fe48ac-0088-44c6-9732-5c654d14ef11', 'prev_id': None}\n",
      "\n",
      "Content: 그렇다면 경제지식이 왜 필요할까요? 과연 이 책을 읽기 위해 투자한 시간의 가치에 상당하는 결실이 돌아올까요? 경제상식이나 지식이 많다고 해서 모든 사 람이 곧 부자가 되고 행복해...\n",
      "Metadata: {'doc_id': 'e2fe48ac-0088-44c6-9732-5c654d14ef11', 'next_id': None, 'prev_id': '206f6d15-e56f-40de-954c-de9a5eb3abc0'}\n",
      "\n",
      "Content: 경제상식이나 지식이 우리를 한 순간에 부자로 만들어 주지는 않습니다. 그렇지만 우리가 일상사에서 합리적인 의사결정을 할수 있도록 도와줌으로써 장기적으로 보면 개개인의 행복을 크게 ...\n",
      "Metadata: {'doc_id': '67a98874-cb4b-42a9-bbcb-ed5ce6f8422a', 'next_id': '500746eb-59d9-4e21-b366-067dea5e55ca', 'prev_id': None}\n",
      "\n",
      "Content: 경제지식이 단기적으로 주식으로 돈을 버는 기법을 가르쳐 주지는 않습니다. 그렇지만 위험을 분산하고 경제의 흐름을 이해할 수 있도록 함으로써 중장기적으로 손실을 최소화하고 나아가 재...\n",
      "Metadata: {'doc_id': '500746eb-59d9-4e21-b366-067dea5e55ca', 'next_id': None, 'prev_id': '67a98874-cb4b-42a9-bbcb-ed5ce6f8422a'}\n",
      "\n",
      "Content: 이러한 경제상식과 지식이 세계경제와 나라경제에서 여러 가지 경제현 상의 흐름과 실태, 그 인과관계 등을 이해하는 데 많은 도움이 되는 것은 두말할 나위가 없습니다. 이를테면 수출이...\n",
      "Metadata: {'doc_id': 'bb01bde4-1166-45e1-95dc-fb923119d458', 'next_id': '9ef9b18d-2378-4322-8e4c-9b3b6c5e0d10', 'prev_id': None}\n",
      "\n"
     ]
    }
   ],
   "source": [
    "# check 1\n",
    "for doc in documents[:5]:  \n",
    "    print(f\"Content: {doc.page_content[:100]}...\")  \n",
    "    print(f\"Metadata: {doc.metadata}\\n\")"
   ]
  },
  {
   "cell_type": "code",
   "execution_count": 7,
   "metadata": {},
   "outputs": [
    {
     "name": "stdout",
     "output_type": "stream",
     "text": [
      "총 481개의 문서가 로드되었습니다.\n",
      "--------------------------------------\n",
      "첫 번째 문서 내용: 대부분의 사람들은 행복하게 살기를 원합니다. 행복한 삶을 이루기 위해 서는 건강한 가운데 가정과 직장 그리고 사회생활에서 적절한 성취를 얻는 것이 무엇보다 중요합니다. 여기에 경제\n",
      "--------------------------------------\n",
      "두 번째 문서 내용: 그렇다면 경제지식이 왜 필요할까요? 과연 이 책을 읽기 위해 투자한 시간의 가치에 상당하는 결실이 돌아올까요? 경제상식이나 지식이 많다고 해서 모든 사 람이 곧 부자가 되고 행복해\n",
      "--------------------------------------\n"
     ]
    }
   ],
   "source": [
    "# check 2\n",
    "print(f\"총 {len(documents)}개의 문서가 로드되었습니다.\")\n",
    "print('--------------------------------------')\n",
    "print(f\"첫 번째 문서 내용: {documents[0].page_content[:100]}\")\n",
    "print('--------------------------------------')\n",
    "print(f\"두 번째 문서 내용: {documents[1].page_content[:100]}\")\n",
    "print('--------------------------------------')"
   ]
  },
  {
   "cell_type": "code",
   "execution_count": 8,
   "metadata": {},
   "outputs": [],
   "source": [
    "# okt 한국어 형태소 분석기\n",
    "okt = Okt()\n",
    "\n",
    "def okt_tokenize(text):\n",
    "    return okt.morphs(text)"
   ]
  },
  {
   "cell_type": "code",
   "execution_count": 9,
   "metadata": {},
   "outputs": [],
   "source": [
    "# Embedding & Indexing\n",
    "if os.path.exists(faiss_index_path) and os.path.exists(bm25_index_path):\n",
    "    # 저장된 인덱스를 로드\n",
    "    with open(faiss_index_path, 'rb') as f:\n",
    "        faiss_index = pickle.load(f)\n",
    "    with open(bm25_index_path, 'rb') as f:\n",
    "        bm25_kkma = pickle.load(f)\n",
    "else:\n",
    "    # Embedding 모델 초기화\n",
    "    embedding_model = HuggingFaceEmbeddings(\n",
    "        model_name='intfloat/multilingual-e5-large-instruct',\n",
    "        model_kwargs={'device': 'mps'},\n",
    "        encode_kwargs={'normalize_embeddings': True},\n",
    "    )\n",
    "\n",
    "    # FAISS 벡터스토어 생성 및 저장\n",
    "    faiss_index = FAISS.from_documents(documents, embedding_model).as_retriever(search_kwargs={\"k\": 30})\n",
    "    with open(faiss_index_path, 'wb') as f:\n",
    "        pickle.dump(faiss_index, f)\n",
    "    \n",
    "    # BM25 리트리버 생성 및 저장\n",
    "    bm25_kkma = BM25Retriever.from_documents(documents, preprocess_func=okt_tokenize)\n",
    "    bm25_kkma.k = 30\n",
    "    with open(bm25_index_path, 'wb') as f:\n",
    "        pickle.dump(bm25_kkma, f)"
   ]
  },
  {
   "cell_type": "code",
   "execution_count": 10,
   "metadata": {},
   "outputs": [],
   "source": [
    "# Hybrid Search : CC method\n",
    "weights = [0.96, 0.04]\n",
    "hybrid_retriever = EnsembleRetriever(\n",
    "    retrievers=[faiss_index, bm25_kkma],\n",
    "    weights=weights,\n",
    "    method=EnsembleMethod.CC\n",
    ")"
   ]
  },
  {
   "cell_type": "code",
   "execution_count": 11,
   "metadata": {},
   "outputs": [],
   "source": [
    "# KoReranker\n",
    "model_path = \"Dongjin-kr/ko-reranker\"\n",
    "tokenizer = AutoTokenizer.from_pretrained(model_path)\n",
    "model = AutoModelForSequenceClassification.from_pretrained(model_path)\n",
    "\n",
    "# rerank\n",
    "def rerank(query, retrieved_documents):\n",
    "    pairs = [[query, doc.page_content] for doc in retrieved_documents]\n",
    "    inputs = tokenizer(pairs, padding=True, truncation=True, return_tensors='pt', max_length=1024)\n",
    "    with torch.no_grad():\n",
    "        scores = model(**inputs, return_dict=True).logits.view(-1).float()\n",
    "    reranked_docs = sorted(zip(retrieved_documents, scores), key=lambda x: x[1], reverse=True)\n",
    "    return reranked_docs  # (documents, score) return\n",
    "\n",
    "# optimize_context\n",
    "def optimize_context(reranked_docs, max_tokens=8000):\n",
    "    context = \"\"\n",
    "    for doc, score in reranked_docs:\n",
    "        if len(context) + len(doc.page_content) > max_tokens:\n",
    "            break\n",
    "        context += doc.page_content + \"\\n\\n\"\n",
    "    return context.strip()"
   ]
  },
  {
   "cell_type": "code",
   "execution_count": 12,
   "metadata": {},
   "outputs": [],
   "source": [
    "# Prompt\n",
    "prompt_template = PromptTemplate(\n",
    "    input_variables=[\"query\", \"retrieved_contents\"],\n",
    "    template=\"\"\"\n",
    "당신은 경제 금융 전문가 '정수빈'입니다.\n",
    "블로그 시리즈의 글을 작성한다고 생각해주세요.\n",
    "이 블로그는 경제 지식이 없거나 경제 개념을 쉽게 배우고 싶은 사람들을 대상으로 합니다.\n",
    "당신의 역할은 경제 용어에 대해 친절하고 쉽게 이해할 수 있는 설명을 제공하는 블로그 글을 작성하는 것입니다.\n",
    "\n",
    "블로그 글 초반부에서는 인사말을 반드시 작성해야 합니다. \n",
    "'안녕하세요, 독자님들~ 수빈이입니다! 오늘도 저와 함께 쉽게 경제 공부를 해볼까요?' 등의 말로 시작해야 합니다.\n",
    "\n",
    "그 다음으로 개념을 상세하게 설명해 주세요. \n",
    "그리고 쉬운 예시를 3개 만들어서 동화처럼 설명해 주세요.\n",
    "실생활에서 접할 수 있는 다양한 상황을 포함하도록 합니다.\n",
    "\n",
    "다음 단계로 이 용어를 이해하는 것이 왜 중요한지 요약해 주세요.\n",
    "\n",
    "글 마무리 문구도 작성해야 합니다.\n",
    "'오늘의 경제 공부는 어떠셨나요? 제 설명이 여러분께 도움이 되셨으면 좋겠어요. 오늘도 방문해주셔서 감사합니다 ^_^' 등의 말로 마무리해야 합니다.\n",
    "\n",
    "경제 지식이 전혀 없는 사람도 쉽게 이해하고 흥미롭게 읽을 수 있도록 친근하고 쉽게 작성해 주세요.\n",
    "\n",
    "# 주의사항:\n",
    "1. 문서의 내용을 기반으로만 글을 작성하세요. 내용을 지어내거나 사실과 다르게 작성하지 마세요.\n",
    "2. 문서에는 관련 메타데이터가 포함되어 있습니다. 메타데이터와 본문 내용을 모두 고려하여 정확한 답변을 제공하세요.\n",
    "3. 만약 설명할 수 없는 부분이 있다면, '모르겠습니다'라고 답하세요.\n",
    "4. 모든 제목은 #나 ## 같은 Markdown 표시 없이 굵은 글씨(**)로 나타나야 합니다. 예를 들어'## 경기가 무엇인가요?'는 '**경기가 무엇인가요?**'로 표시합니다.\n",
    "5. 본문과 인사말에서는 일반 텍스트 형식을 사용하고, 필요할 경우 단어에만 굵은 글씨를 사용해주세요.\n",
    "6. 글은 최대한 길게 작성해 주세요.\n",
    "7. 글 초반부 인사와 마무리 인사는 길고 다채롭게 표현하면 좋습니다.\n",
    "8. 글 초반부 인사 : 약 500자, 마무리 인사 : 약 500자 길이로 작성해 주세요.\n",
    "\n",
    "이제 주제에 맞게 블로그 글을 작성해 주세요.\n",
    "질문: {query}\n",
    "단락: {retrieved_contents}\n",
    "답변:\n",
    "\"\"\"\n",
    ")"
   ]
  },
  {
   "cell_type": "code",
   "execution_count": 13,
   "metadata": {},
   "outputs": [],
   "source": [
    "# LLM & Chain\n",
    "llm = ChatOpenAI(model=\"gpt-4o-mini\", temperature=0.3)\n",
    "chain = LLMChain(llm=llm, prompt=prompt_template)"
   ]
  },
  {
   "cell_type": "code",
   "execution_count": 14,
   "metadata": {},
   "outputs": [],
   "source": [
    "def generate_answer_with_debug(query, top_k_retrieve=30, top_k_rerank=5):\n",
    "    # Step 1: Retrieve documents\n",
    "    retrieved_documents = hybrid_retriever.invoke(query)\n",
    "    \n",
    "    # 상위 top_k_retrieve 문서만 유지\n",
    "    unique_documents = []\n",
    "    seen = set()\n",
    "    for doc in retrieved_documents:\n",
    "        if doc.page_content not in seen:\n",
    "            unique_documents.append(doc)\n",
    "            seen.add(doc.page_content)\n",
    "        if len(unique_documents) == top_k_retrieve:\n",
    "            break\n",
    "    \n",
    "    print(\"최종 Retrieve 단계에서 검색된 문서:\")\n",
    "    print(\"--------------------------------------------------\")\n",
    "    for i, doc in enumerate(unique_documents, 1):\n",
    "        print(f\"문서 {i}:\\n내용: {doc.page_content[:100]}...\\n\")\n",
    "\n",
    "    # Step 2: Rerank documents\n",
    "    reranked_documents = rerank(query, unique_documents)\n",
    "    reranked_documents = reranked_documents[:top_k_rerank]\n",
    "    print(\"\\nReranker를 통해 재정렬된 문서:\")\n",
    "    print(\"--------------------------------------------------\")\n",
    "    for i, (doc, score) in enumerate(reranked_documents, 1):\n",
    "        print(f\"문서 {i} (점수: {score}):\\n내용: {doc.page_content[:100]}...\\n\")\n",
    "\n",
    "    # Step 3: 최적화된 컨텍스트 생성\n",
    "    reranked_contents = optimize_context(reranked_documents)\n",
    "    \n",
    "    # Step 4: Generate response using LLM\n",
    "    response = chain.run({\"query\": query, \"retrieved_contents\": reranked_contents})\n",
    "    return response"
   ]
  },
  {
   "cell_type": "code",
   "execution_count": 15,
   "metadata": {},
   "outputs": [
    {
     "name": "stderr",
     "output_type": "stream",
     "text": [
      "python(73585) MallocStackLogging: can't turn off malloc stack logging because it was not enabled.\n"
     ]
    },
    {
     "name": "stdout",
     "output_type": "stream",
     "text": [
      "최종 Retrieve 단계에서 검색된 문서:\n",
      "--------------------------------------------------\n",
      "문서 1:\n",
      "내용: 실제 사용한 날짜와 결제 날짜가 차이가 있으므로 더 나은 환율로 결제할 수 있기 때문입니다. 국외 송금할 경우와 국외에서 신용카드를 사용하였을 경우에 적용되는 환율은 전신환매매율입...\n",
      "\n",
      "문서 2:\n",
      "내용: 환율제도는 나라마다 그 결정방식이 다른데 크게 고정환율제도와 변동환율제도로 나누어집니다. 고정환율제도는 정부 또는 중앙은행이 외환시장에 개입하여 환율을 일정한 수준으로 유지시키는 ...\n",
      "\n",
      "문서 3:\n",
      "내용: 환율은 수출입기업을 비롯한 경제주체들의 외국과 거래에 큰 영향을 미치기 때문에 많은 사람들은 환율변동에 큰 관심을 보입니다. 이제 환 율 변동이 나라경제에 어떤 영향을 미치는지 알...\n",
      "\n",
      "문서 4:\n",
      "내용: 그러면 환율은 어디서 어떻게 결정될까요? 식품이나 TV와 같은 상품의 가격이 시장에서 정해지듯이, 돈의 대외 가치인 환율은 외환이 거래되는 시장에서 외환의 수요와 공급에 의해 결정...\n",
      "\n",
      "문서 5:\n",
      "내용: 즉 환율안정을 위해 정책 금리를 자주 변경하게 되면 금리의 변동성 확대로 금융시장이 더욱 불안정해지는 문제가 발생하여 득보다 실이 더 클 수도 있습니다....\n",
      "\n",
      "문서 6:\n",
      "내용: 환율이 오르내리는 이유는 상품시장에서의 균형가격 결정 원리와 동일합니다. 즉 환율은 외환시장에서 외환의 수요와 공급에 따라 결정되므로 해당 화폐에 대한 수요가 커지면 그 화폐의 가...\n",
      "\n",
      "문서 7:\n",
      "내용: 그러한 이유로 단기적인 환율 음직임을 예측하는 것은 매우 어렵습니다. 더군다나 전문가가 아닌 일반인으 로서는 미래의 환율 움직임을 예측하기 더더욱 어렵습니다....\n",
      "\n",
      "문서 8:\n",
      "내용: 물론 여러 가지 이유로 실제로 이렇게 정확하게 맞아 떨어지지는 않습니다. 여기서 환율을 1,000 원/달러(1달러당 1,000원)로 표시한 것은 국제 금융거래에 있어 기축통화인 미...\n",
      "\n",
      "문서 9:\n",
      "내용: 또한 환율변동은 장기적으로 국가 간의 물가상승률 차이를 반영한다고 할수 있습니다. 물가상승은 경제성장률이나 경제정책과도 연관되어 있으므로 환율의 움직임은 참으로 다양한 요인으로 움...\n",
      "\n",
      "문서 10:\n",
      "내용: 이와 같이 환율변동은 경제의 여러 분야에 상반되는 영향을 미치게 되므로 환율은 가능한 한 기초경제여건을 반영하여 안정되도록 하는 것이 바람직하다 하겠습니다....\n",
      "\n",
      "문서 11:\n",
      "내용: 우리는 첫째 마당에서 '기회비용' 이라는 개념을 알아봤는데 외환보유에 따른 기회비용은 과연 얼마나 될까요? 다른 말로 어느 정도의 외환을 보유하여야 적정하다고 할수 있을까요? ...\n",
      "\n",
      "문서 12:\n",
      "내용: 환율이 오르면 수출에 있어 우리나라 제품의 가격경쟁력이 높아지게 됩니다. 예를 들어 달러당 1,100원이면 채산성이 맞는 상품을 제조 수출하는 기업 입장에서 달러당 1,200원이 ...\n",
      "\n",
      "문서 13:\n",
      "내용: 또한 우리나라와 같이 물가목표를 중앙은행이 사전에 공표하고 이를 달성하기 위해 단기금리를 조절하는 물가안정목표제를 도입한 경우에는 정책간의 상충 등으로 환율에 대한 목표나 범위를 ...\n",
      "\n",
      "문서 14:\n",
      "내용: 환금성이란 돈이 필요한 시점에서 언제든지 보유 자산을 별다른 손해 없이 현금화할 수 있는 정도를 말하며, 유동성이라고도 합니다. 우리가 생활을 하다 보면 당장 현금이 필요한 경우가...\n",
      "\n",
      "문서 15:\n",
      "내용: 경제주체 개개인의 경우도 환율의 움직임에 영향을 많이 받게 됩니다. 예를 들어 원화환율이 오르면 수출업체의 채산성이 좋아지므로 수출기업과 관련된 업체의 근로자는 환율 상승의 수혜자...\n",
      "\n",
      "문서 16:\n",
      "내용: 실생활에서 사용되는 환율의 종류에 대해 몇 가지 알아보겠습니다. 보통 은행에 가면 객장에 환율고시 전광판이 있는데 먼저 매매기준율이 눈에 보입니다. 매매기준율은 말 그대로 여러 가...\n",
      "\n",
      "문서 17:\n",
      "내용: 앞에서 이야기한 바대로 지금은 한 나라가 문을 닫고 자급자족하며 살 수 없는 개방화 시대입니다. 그러나 우리나라가 외국으로부터 원유나 공산품을 수입할 때 우리나라 돈으로 직접 결제...\n",
      "\n",
      "문서 18:\n",
      "내용: 또한 환율경로는 중앙은행의 정책금리 조정이 국내금리를 변화시키고 다시 환율에 영향을 미치고 변동된 환율이 총수요와 물가에 영향을 미치는 경로를 말합니다. 예를 들어 중앙은행의 정책...\n",
      "\n",
      "문서 19:\n",
      "내용: 그러나 최근에는 자본거래가 더 큰 비중을 차지함에 따라 각국의 주식이나 국공채 등을 사고팔기 위한 외화의 수요와 공급이 많아서 자본이동이 경상수지 변동보다 환율에 영향을 더 크게 ...\n",
      "\n",
      "문서 20:\n",
      "내용: 가격기구가 이러한 문제를 잘 해결해 주기 때문입니다....\n",
      "\n",
      "문서 21:\n",
      "내용: 또한, 금리 변동이 너무 심하면 불확실성을 키워 기업의 투자 등 경제주체들의 각종 경제활동에 대한 의사결정을 어렵게 하므로 급격하게 변동되지 않도록 관리하고 있습니다....\n",
      "\n",
      "문서 22:\n",
      "내용: 물건값은 어떻게 결정되며 왜 오를까요? 가격은 시장에서 사람들이 모여서 물건을 사거나 파는 과정에서 결정됩니다. 이때 팔고자 하는 사람에 비해 사고자 하는 사람이 많거나. ...\n",
      "\n",
      "문서 23:\n",
      "내용: 금융상품의 선택기준은 목적에 따라 달라야 합니다. ...\n",
      "\n",
      "문서 24:\n",
      "내용: 이러한 자본이동을 설명하는 중요한 요인 가운데 하나는 국내외의 실질 금리(명목금리에서 기대물가상승률을 차감한 금리) 차입니다. 자본이 아무런 규제 없이 자유롭게 움직일 수 있다면 ...\n",
      "\n",
      "문서 25:\n",
      "내용: 국제 원자재가격 등을 들 수 있습니다. 그리고 북한 핵 위협과 같은 지정학적 리 스크 신종코로나바이러스 등 비경제적 요인에 의해서도 영향을 받습니다....\n",
      "\n",
      "문서 26:\n",
      "내용: 여기서 우리는 환율정책에 대해 생각해 불 필요가 있습니다. 외환위기 이후 우리나라의 환율제도는 자유변동환율제도로 바뀌었지만 일부에서는 여전히 정부와 중앙은행이 항상 외환시장에 개입...\n",
      "\n",
      "문서 27:\n",
      "내용: 금리의 변동은 나라와 나라 사이 돈의 움직임, 즉 자본이동에도 영향을 미치게 됩니다. 일반적으로 우리나라 금리가 올라 외국 금리보다 높아지면, 외국 사람은 우리나라에서 돈을 운용하...\n",
      "\n",
      "문서 28:\n",
      "내용: 유비무환이라는 말처럼 외환보유액을 넉넉하게 쌓아 비상시에 대비할 필요가 있다 하겠습니다....\n",
      "\n",
      "문서 29:\n",
      "내용: 그러나 쌀을 가을에 바로 팔아 돈으로 보관해 두었다가 사용하는 편이 편리할 것입니다. 쌀을 저장하기 위해서는 창고를 지어야 하는 등 많은 비용을 부담하여야 하지만 돈을 보관하는 데...\n",
      "\n",
      "문서 30:\n",
      "내용: 예를 들어 경제의 기초여건이 양호한데도 불구하고 불완전한 정보 때문에 외환시장에서 환율이 과도하게 움직이는 경우가 있습니다. 아시아 인접 국가의 경제가 좋지 않아 주식자금 등 외국...\n",
      "\n",
      "\n",
      "Reranker를 통해 재정렬된 문서:\n",
      "--------------------------------------------------\n",
      "문서 1 (점수: -0.1556711196899414):\n",
      "내용: 환율이 오르내리는 이유는 상품시장에서의 균형가격 결정 원리와 동일합니다. 즉 환율은 외환시장에서 외환의 수요와 공급에 따라 결정되므로 해당 화폐에 대한 수요가 커지면 그 화폐의 가...\n",
      "\n",
      "문서 2 (점수: -0.93414705991745):\n",
      "내용: 또한 환율변동은 장기적으로 국가 간의 물가상승률 차이를 반영한다고 할수 있습니다. 물가상승은 경제성장률이나 경제정책과도 연관되어 있으므로 환율의 움직임은 참으로 다양한 요인으로 움...\n",
      "\n",
      "문서 3 (점수: -1.452979564666748):\n",
      "내용: 예를 들어 경제의 기초여건이 양호한데도 불구하고 불완전한 정보 때문에 외환시장에서 환율이 과도하게 움직이는 경우가 있습니다. 아시아 인접 국가의 경제가 좋지 않아 주식자금 등 외국...\n",
      "\n",
      "문서 4 (점수: -2.5503039360046387):\n",
      "내용: 즉 환율안정을 위해 정책 금리를 자주 변경하게 되면 금리의 변동성 확대로 금융시장이 더욱 불안정해지는 문제가 발생하여 득보다 실이 더 클 수도 있습니다....\n",
      "\n",
      "문서 5 (점수: -2.7604663372039795):\n",
      "내용: 여기서 우리는 환율정책에 대해 생각해 불 필요가 있습니다. 외환위기 이후 우리나라의 환율제도는 자유변동환율제도로 바뀌었지만 일부에서는 여전히 정부와 중앙은행이 항상 외환시장에 개입...\n",
      "\n",
      "질문: 환율이 매일 변동하는 이유는 무엇인가요?\n",
      "답변: 안녕하세요, 독자님들~ 수빈이입니다! 오늘도 저와 함께 쉽게 경제 공부를 해볼까요? 오늘의 주제는 바로 **환율이 매일 변동하는 이유**입니다. 환율은 우리가 일상에서 자주 접하는 개념이지만, 그 변동의 원리를 이해하기란 쉽지 않을 수 있습니다. 그래서 오늘은 환율이 왜 오르내리는지, 그리고 그 배경에 있는 다양한 요인들을 쉽게 설명해 보도록 하겠습니다. 자, 그럼 시작해 볼까요?\n",
      "\n",
      "환율은 한 나라의 통화가 다른 나라의 통화와 교환되는 비율을 의미합니다. 예를 들어, 1달러가 1,200원일 때, 우리는 1달러를 사기 위해 1,200원을 지불해야 합니다. 그런데 이 환율은 매일 변동합니다. 그 이유는 외환시장에서의 **수요와 공급**에 따라 결정되기 때문입니다. 수요가 많아지면 환율이 오르고, 수요가 줄어들면 환율이 떨어집니다. \n",
      "\n",
      "이제 환율 변동의 원리를 좀 더 쉽게 이해할 수 있도록 동화 같은 예시를 들어볼게요.\n",
      "\n",
      "**예시 1: 마법의 과일 가게**  \n",
      "어느 마을에 마법의 과일 가게가 있습니다. 이 가게에서는 사과와 바나나를 판매하는데, 사과는 마법의 힘이 있어서 인기가 많습니다. 그래서 사과를 사려는 사람들이 많아지면, 사과의 가격이 오르게 됩니다. 반면, 바나나의 인기가 줄어들면 바나나의 가격은 떨어지게 되죠. 이처럼 과일의 수요와 공급에 따라 가격이 변동하는 것처럼, 환율도 각 나라의 통화에 대한 수요와 공급에 따라 변동합니다.\n",
      "\n",
      "**예시 2: 여행자의 외환 시장**  \n",
      "한 여행자가 외국으로 여행을 떠났습니다. 그는 100달러를 가지고 있었고, 한국에서 환전하기 위해 은행에 갔습니다. 그런데 그날 한국의 경제가 좋고 많은 사람들이 달러를 사려고 하니, 은행은 1,200원 대신 1,100원으로 환전해 주었습니다. 이처럼 경제 상황에 따라 외환의 수요가 달라지면 환율도 변동하게 됩니다.\n",
      "\n",
      "**예시 3: 스포츠 경기의 응원**  \n",
      "한 스포츠 팀이 중요한 경기를 치르고 있습니다. 팀이 승리하면 팬들이 기뻐하며 그 팀의 상품을 사기 위해 돈을 더 쓰게 됩니다. 이때, 그 팀의 상품에 대한 수요가 증가하면 가격이 오르게 됩니다. 반면, 팀이 패배하면 상품에 대한 수요가 줄어들어 가격이 떨어지게 되죠. 환율도 마찬가지로 각국의 경제 상황에 따라 수요가 변동하고, 그에 따라 환율이 오르내리게 됩니다.\n",
      "\n",
      "이처럼 환율은 다양한 요인에 의해 영향을 받습니다. 각국의 경제활동 수준, 즉 경기가 좋고 나쁨에 따라 외환의 수요와 공급이 달라지기 때문에 환율이 변동하는 것입니다. 경상수지가 흑자일 때는 자국 통화가 강세를 보이고, 적자일 때는 약세를 보이게 됩니다. 이러한 환율 변동은 경제에 큰 영향을 미치기 때문에 이해하는 것이 중요합니다.\n",
      "\n",
      "오늘의 경제 공부는 어떠셨나요? 환율이 매일 변동하는 이유를 이해하는 것은 우리가 일상에서 경제적 결정을 내리는 데 큰 도움이 됩니다. 환율이 어떻게 결정되는지 알면, 해외 여행이나 쇼핑, 투자 등 다양한 상황에서 더 나은 선택을 할 수 있습니다. 제 설명이 여러분께 도움이 되셨으면 좋겠어요. 오늘도 방문해주셔서 감사합니다 ^_^\n"
     ]
    }
   ],
   "source": [
    "query = \"환율이 매일 변동하는 이유는 무엇인가요?\"\n",
    "response = generate_answer_with_debug(query)\n",
    "\n",
    "# Result\n",
    "print(\"질문:\", query)\n",
    "print(\"답변:\", response)"
   ]
  },
  {
   "cell_type": "code",
   "execution_count": null,
   "metadata": {},
   "outputs": [],
   "source": []
  }
 ],
 "metadata": {
  "kernelspec": {
   "display_name": "djanglang",
   "language": "python",
   "name": "python3"
  },
  "language_info": {
   "codemirror_mode": {
    "name": "ipython",
    "version": 3
   },
   "file_extension": ".py",
   "mimetype": "text/x-python",
   "name": "python",
   "nbconvert_exporter": "python",
   "pygments_lexer": "ipython3",
   "version": "3.10.15"
  }
 },
 "nbformat": 4,
 "nbformat_minor": 2
}
